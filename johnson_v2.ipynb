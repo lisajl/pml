{
 "cells": [
  {
   "cell_type": "code",
   "execution_count": 237,
   "metadata": {},
   "outputs": [],
   "source": [
    "# IMPORTS\n",
    "%matplotlib inline\n",
    "import matplotlib as mpl\n",
    "import matplotlib.pyplot as plt\n",
    "import numpy as np"
   ]
  },
  {
   "cell_type": "code",
   "execution_count": 238,
   "metadata": {},
   "outputs": [],
   "source": [
    "# UTILITIES\n",
    "def deriv2(f, dx):\n",
    "    fprimeprime = (f[2:] - 2*f[1:-1] + f[0:-2])/dx**2\n",
    "    return fprimeprime\n",
    "def deriv1(f, dx):\n",
    "    #fprime = (f[2:] - f[1:-1])/dx\n",
    "    fprime = (f[2:] - f[0:-2])/(2*dx)\n",
    "    return fprime\n",
    "def deriv1v2(f,dx):\n",
    "    fprime = (f[2:] - f[0:-2])/(2*dx)\n",
    "    #starting from third element - all elements except first and last, why??\n",
    "    return fprime"
   ]
  },
  {
   "cell_type": "code",
   "execution_count": 239,
   "metadata": {},
   "outputs": [],
   "source": [
    "# SOL & INITIAL DATA\n",
    "def solution(t, x):\n",
    "    f = np.exp(-(t-x)**2) \n",
    "    return f\n",
    "\n",
    "def initial_data(x):\n",
    "    f = np.exp(-x**2)\n",
    "    fprime = -1 * np.exp(-x**2)\n",
    "    return np.array([f,fprime]) "
   ]
  },
  {
   "cell_type": "code",
   "execution_count": 240,
   "metadata": {},
   "outputs": [],
   "source": [
    "# CHANGE CONSTANTS\n",
    "def rhs(t, f, a, b, mode):\n",
    "    dt_u = np.zeros_like(f[0])\n",
    "    sigmax = 0\n",
    "    \n",
    "    # CONSTANTS - 1\n",
    "    if mode == 1:\n",
    "        sigmax = 1\n",
    "        dt_u[1:-1] = b * deriv1(f[1], dx) - (sigmax * f[0][1:-1])\n",
    "        dt_v = np.zeros_like(f[1]) \n",
    "        dt_v[1:-1] = a * deriv1(f[0], dx) - (sigmax * f[1][1:-1])\n",
    "        return np.array([dt_u, dt_v])\n",
    "\n",
    "    # BUMP FUNCTION - 2\n",
    "    if mode == 2: \n",
    "        aa = 10\n",
    "        x0 = 10000\n",
    "        c = 2\n",
    "\n",
    "        oneg = -1 * c\n",
    "        opos = 1 * c\n",
    "        outside = np.logical_or(x<= oneg, x>=opos)\n",
    "        sigmax = np.piecewise(x, [outside, np.logical_not(outside)], [0, lambda x: np.exp(aa * -1 * (1/((1-((x-x0)**2)/(c**2)))))])\n",
    "\n",
    "    #GAUSSIAN FUNCTION - 3\n",
    "    if mode == 3:\n",
    "        aa = 1\n",
    "        x0 = 2\n",
    "        c = 0.1\n",
    "        sigmax = aa * np.exp(-1*((x-x0)**2) / (2*(c)**2)) \n",
    "\n",
    "    dt_u[1:-1] = b * deriv1(f[1], dx) - (sigmax[1:-1] * f[0][1:-1])\n",
    "    dt_v = np.zeros_like(f[1]) \n",
    "    dt_v[1:-1] = a * deriv1(f[0], dx) - (sigmax[1:-1] * f[1][1:-1])\n",
    "\n",
    "    return np.array([dt_u, dt_v])"
   ]
  },
  {
   "cell_type": "code",
   "execution_count": 241,
   "metadata": {},
   "outputs": [],
   "source": [
    "# BOUNDARY & RK\n",
    "def dirichlet_boundary_condition(f):\n",
    "    fout = f.copy()\n",
    "    fout[0][0] = 0.\n",
    "    fout[0][-1] = 0.\n",
    "    fout[1][0] = 0.\n",
    "    fout[1][-1] = 0.\n",
    "    return fout\n",
    "\n",
    "#periodic will just loop back around\n",
    "def periodic_boundary_condition(f):\n",
    "    fout = f.copy()\n",
    "    fout[0][0] = f[0][-2]\n",
    "    fout[0][-1] = f[0][1]\n",
    "    fout[1][0] = f[1][-2]\n",
    "    fout[1][-1] = f[1][1]\n",
    "    return fout\n",
    "\n",
    "def rk2step(f, rhs, t, dt):\n",
    "    k1 = rhs(t, f, 1, 1, mode_option)\n",
    "    f1 = f + 1./2.*dt*k1\n",
    "    f1 = boundary_condition(f1)\n",
    "\n",
    "    k2 = rhs(t + 1./2.*dt, f1, 1, 1, mode_option)\n",
    "    f2 = f + dt * k2\n",
    "    f2 = boundary_condition(f2)\n",
    "    return f2\n",
    "\n",
    "def rk4step(f, rhs, t, dt):\n",
    "    k1 = rhs(t, f, 1, 1, mode_option)\n",
    "    f2 = f + (dt*1/2*k1)\n",
    "    f2 = boundary_condition(f2)\n",
    "    k2 = rhs(t + 1./2.*dt, f2, 1, 1, mode_option)\n",
    "\n",
    "\n",
    "    f3 = f + (dt*1/2*k2)\n",
    "    f3 = boundary_condition(f3)\n",
    "    k3 = rhs(t + 1./2.*dt, f3, 1, 1, mode_option)\n",
    "\n",
    "    f4 = f + (dt*k3)\n",
    "    f4 = boundary_condition(f4)\n",
    "    k4 = rhs(t + dt, f4, 1, 1, mode_option)\n",
    "\n",
    "    final = f + 1/6*(k1 + 2*k2 + 2*k3 + k4)*dt\n",
    "    final = boundary_condition(final)\n",
    "    return final"
   ]
  },
  {
   "cell_type": "code",
   "execution_count": 242,
   "metadata": {},
   "outputs": [
    {
     "name": "stdout",
     "output_type": "stream",
     "text": [
      "0.3000000000000007\n"
     ]
    },
    {
     "data": {
      "image/png": "[encoded data removed]",
      "text/plain": [
       "<Figure size 640x480 with 1 Axes>"
      ]
     },
     "metadata": {},
     "output_type": "display_data"
    }
   ],
   "source": [
    "#MAIN\n",
    "# 1 = constant, 2 = bump, 3 = gaussian\n",
    "mode_option = 2\n",
    "boundary_condition = dirichlet_boundary_condition\n",
    "\n",
    "# start and end time\n",
    "t0 = 0.\n",
    "t1 = 10\n",
    "\n",
    "# grid\n",
    "xmin = -30\n",
    "xmax = 30\n",
    "ncells = 200\n",
    "dx = (xmax - xmin) / ncells\n",
    "nhalo = 1 \n",
    "\n",
    "x = np.linspace(xmin - nhalo * dx, xmax, ncells + 2*nhalo)\n",
    "\n",
    "oneg = -1 * c + x0\n",
    "opos = 1 * c + x0\n",
    "outside = np.logical_or(x<= oneg, x>=opos)\n",
    "sigmax = np.piecewise(x, [outside, np.logical_not(outside)], [0, lambda x: np.exp(aa * -1 * (1/((1-((x-x0)**2)/(c**2)))))])\n",
    "\n",
    "# grid spacing\n",
    "dx = x[1] - x[0]\n",
    "print(dx)\n",
    "# time step\n",
    "dt = dx/4. \n",
    "\n",
    "t = t0\n",
    "f = initial_data(x)\n",
    "it = 0\n",
    "while (t < t1):\n",
    "    fnext = rk4step(f, rhs, t, dt)\n",
    "\n",
    "    t += dt\n",
    "    f = fnext\n",
    "    \n",
    "    if(it % 50 == 0):\n",
    "        plt.plot(x, f[0], label=\"at time %g\" % t)\n",
    "        plt.plot(x, sigmax)\n",
    "    it += 1\n",
    "\n",
    "zero = 0\n",
    "plt.legend(loc='best');"
   ]
  }
 ],
 "metadata": {
  "kernelspec": {
   "display_name": "Python 3",
   "language": "python",
   "name": "python3"
  },
  "language_info": {
   "codemirror_mode": {
    "name": "ipython",
    "version": 3
   },
   "file_extension": ".py",
   "mimetype": "text/x-python",
   "name": "python",
   "nbconvert_exporter": "python",
   "pygments_lexer": "ipython3",
   "version": "3.11.1"
  },
  "orig_nbformat": 4
 },
 "nbformat": 4,
 "nbformat_minor": 2
}
